{
  "nbformat": 4,
  "nbformat_minor": 0,
  "metadata": {
    "colab": {
      "name": "Python_Basics.ipynb",
      "provenance": [],
      "collapsed_sections": []
    },
    "kernelspec": {
      "name": "python3",
      "display_name": "Python 3"
    },
    "language_info": {
      "name": "python"
    }
  },
  "cells": [
    {
      "cell_type": "markdown",
      "source": [
        "# Python Basics\n",
        "<li>Comments\n",
        "<li>Initialization\n",
        "<li>Data Types\n",
        "<li>Print\n",
        "<li>Condition\n",
        "<li>loop\n",
        "<li>Function</li>"
      ],
      "metadata": {
        "id": "RoE6GKt6VqY6"
      }
    },
    {
      "cell_type": "markdown",
      "source": [
        "### Comments\n",
        "Helps to add any comments in between codes just like explanation."
      ],
      "metadata": {
        "id": "mBZ6tsO47GeQ"
      }
    },
    {
      "cell_type": "code",
      "source": [
        "#This is a comment\n",
        "'''\n",
        "a=5\n",
        "print(a)'''"
      ],
      "metadata": {
        "id": "orJEkmmVWxMp",
        "colab": {
          "base_uri": "https://localhost:8080/",
          "height": 35
        },
        "outputId": "aae1f168-50b6-4d1b-e182-02166e5a06ee"
      },
      "execution_count": 23,
      "outputs": [
        {
          "output_type": "execute_result",
          "data": {
            "text/plain": [
              "'\\na=5\\nprint(a)'"
            ],
            "application/vnd.google.colaboratory.intrinsic+json": {
              "type": "string"
            }
          },
          "metadata": {},
          "execution_count": 23
        }
      ]
    },
    {
      "cell_type": "markdown",
      "source": [
        "### Declaration/Initialization\n",
        "Assign values to variables"
      ],
      "metadata": {
        "id": "E7dEGoj07LiH"
      }
    },
    {
      "cell_type": "code",
      "source": [
        "a,d='Panther','New'\n",
        "c=25\n",
        "b=3.4\n",
        "print(a,b,c,d)"
      ],
      "metadata": {
        "colab": {
          "base_uri": "https://localhost:8080/",
          "height": 0
        },
        "id": "bURvbI5pX-cU",
        "outputId": "1680c4cb-2dcb-4456-f62b-55a0dd33c0d4"
      },
      "execution_count": 28,
      "outputs": [
        {
          "output_type": "stream",
          "name": "stdout",
          "text": [
            "Panther 3.4 25 New\n"
          ]
        }
      ]
    },
    {
      "cell_type": "markdown",
      "source": [
        "### Datatypes\n",
        "Boolean -> True / False  <br>\n",
        "Numbers -> integer,float etc. <br>\n",
        "strings -> A word/sentence anything in '' <br>\n",
        "lists -> heterogenous mutable collection of data <br>\n",
        "tuple -> heterogenous immutable collection of data <br>\n",
        "dictionary -> Key Value pair of data"
      ],
      "metadata": {
        "id": "pwTxSrc38LAW"
      }
    },
    {
      "cell_type": "code",
      "source": [
        "#Boolean\n",
        "boolean=True\n",
        "boolean"
      ],
      "metadata": {
        "id": "TK63doNNYrZ1",
        "colab": {
          "base_uri": "https://localhost:8080/",
          "height": 0
        },
        "outputId": "0d610f18-0464-46d3-f0eb-c1e36f99787f"
      },
      "execution_count": 30,
      "outputs": [
        {
          "output_type": "execute_result",
          "data": {
            "text/plain": [
              "True"
            ]
          },
          "metadata": {},
          "execution_count": 30
        }
      ]
    },
    {
      "cell_type": "code",
      "source": [
        "#Number\n",
        "a=4.5\n",
        "a"
      ],
      "metadata": {
        "colab": {
          "base_uri": "https://localhost:8080/",
          "height": 0
        },
        "id": "Z-qu6RQk9Rf_",
        "outputId": "29bd28bd-c358-4d2f-8ec0-ee11c6d14a4d"
      },
      "execution_count": 31,
      "outputs": [
        {
          "output_type": "execute_result",
          "data": {
            "text/plain": [
              "4.5"
            ]
          },
          "metadata": {},
          "execution_count": 31
        }
      ]
    },
    {
      "cell_type": "code",
      "source": [
        "#String\n",
        "strings='This is a string'\n",
        "print(strings)\n",
        "print(strings[0])\n",
        "print(strings[1:6])"
      ],
      "metadata": {
        "colab": {
          "base_uri": "https://localhost:8080/",
          "height": 0
        },
        "id": "Ra7J5GzC9cgp",
        "outputId": "fc3031fe-ea50-4c44-c47b-86fd4a998632"
      },
      "execution_count": 34,
      "outputs": [
        {
          "output_type": "stream",
          "name": "stdout",
          "text": [
            "This is a string\n",
            "T\n",
            "his i\n"
          ]
        }
      ]
    },
    {
      "cell_type": "code",
      "source": [
        "#List\n",
        "lists=[1,2,3,'true',True,3.4]\n",
        "lists[0]='N'\n",
        "lists"
      ],
      "metadata": {
        "colab": {
          "base_uri": "https://localhost:8080/",
          "height": 0
        },
        "id": "ArKJPyk1at5L",
        "outputId": "11dace04-27c8-4a50-ede2-29e7dff66060"
      },
      "execution_count": 36,
      "outputs": [
        {
          "output_type": "execute_result",
          "data": {
            "text/plain": [
              "['N', 2, 3, 'true', True, 3.4]"
            ]
          },
          "metadata": {},
          "execution_count": 36
        }
      ]
    },
    {
      "cell_type": "code",
      "source": [
        "#Tuple\n",
        "tuples=(2,'cube')\n",
        "tuples"
      ],
      "metadata": {
        "id": "velvRK_gau-y",
        "colab": {
          "base_uri": "https://localhost:8080/",
          "height": 0
        },
        "outputId": "befed0c1-a421-4312-bfc1-31e3c72c516d"
      },
      "execution_count": 37,
      "outputs": [
        {
          "output_type": "execute_result",
          "data": {
            "text/plain": [
              "(2, 'cube')"
            ]
          },
          "metadata": {},
          "execution_count": 37
        }
      ]
    },
    {
      "cell_type": "code",
      "source": [
        "tuples[0]='N'"
      ],
      "metadata": {
        "colab": {
          "base_uri": "https://localhost:8080/",
          "height": 168
        },
        "id": "piaCeFjUa6L2",
        "outputId": "a65addd1-1741-4984-ce5f-55d966fd20b4"
      },
      "execution_count": 38,
      "outputs": [
        {
          "output_type": "error",
          "ename": "TypeError",
          "evalue": "ignored",
          "traceback": [
            "\u001b[0;31m---------------------------------------------------------------------------\u001b[0m",
            "\u001b[0;31mTypeError\u001b[0m                                 Traceback (most recent call last)",
            "\u001b[0;32m<ipython-input-38-03244bea39aa>\u001b[0m in \u001b[0;36m<module>\u001b[0;34m()\u001b[0m\n\u001b[0;32m----> 1\u001b[0;31m \u001b[0mtuples\u001b[0m\u001b[0;34m[\u001b[0m\u001b[0;36m0\u001b[0m\u001b[0;34m]\u001b[0m\u001b[0;34m=\u001b[0m\u001b[0;34m'N'\u001b[0m\u001b[0;34m\u001b[0m\u001b[0;34m\u001b[0m\u001b[0m\n\u001b[0m",
            "\u001b[0;31mTypeError\u001b[0m: 'tuple' object does not support item assignment"
          ]
        }
      ]
    },
    {
      "cell_type": "code",
      "source": [
        "#Dictionary\n",
        "dictionary={1:'Name',2:'B',3:'C'}\n",
        "dictionary"
      ],
      "metadata": {
        "id": "nDoeve7Ua-Of",
        "colab": {
          "base_uri": "https://localhost:8080/",
          "height": 0
        },
        "outputId": "47476647-38ab-48d2-a448-a280abc397d0"
      },
      "execution_count": 42,
      "outputs": [
        {
          "output_type": "execute_result",
          "data": {
            "text/plain": [
              "{1: 'Name', 2: 'B', 3: 'C'}"
            ]
          },
          "metadata": {},
          "execution_count": 42
        }
      ]
    },
    {
      "cell_type": "code",
      "source": [
        "dictionary[1]='A'\n",
        "dictionary"
      ],
      "metadata": {
        "id": "-hPyvOntbNIE",
        "colab": {
          "base_uri": "https://localhost:8080/",
          "height": 0
        },
        "outputId": "5b754aad-5897-48e8-ab6c-a5f0f53a92fa"
      },
      "execution_count": 43,
      "outputs": [
        {
          "output_type": "execute_result",
          "data": {
            "text/plain": [
              "{1: 'A', 2: 'B', 3: 'C'}"
            ]
          },
          "metadata": {},
          "execution_count": 43
        }
      ]
    },
    {
      "cell_type": "code",
      "source": [
        ""
      ],
      "metadata": {
        "id": "A8UGqjOibSv5"
      },
      "execution_count": null,
      "outputs": []
    },
    {
      "cell_type": "code",
      "source": [
        "#Nothing\n",
        "n=None\n",
        "type(n)"
      ],
      "metadata": {
        "id": "_dnDTZSubXe5",
        "colab": {
          "base_uri": "https://localhost:8080/",
          "height": 0
        },
        "outputId": "a34eb99f-64ae-4ea8-ac8f-c6c500c457ed"
      },
      "execution_count": 44,
      "outputs": [
        {
          "output_type": "execute_result",
          "data": {
            "text/plain": [
              "NoneType"
            ]
          },
          "metadata": {},
          "execution_count": 44
        }
      ]
    },
    {
      "cell_type": "markdown",
      "source": [
        "### Print Statement"
      ],
      "metadata": {
        "id": "df6Ak44H-1lB"
      }
    },
    {
      "cell_type": "code",
      "source": [
        "print('Hello World!')"
      ],
      "metadata": {
        "colab": {
          "base_uri": "https://localhost:8080/",
          "height": 0
        },
        "id": "5T6CZC7yb60O",
        "outputId": "01f96708-e626-4b0e-9cef-b84c90582dd1"
      },
      "execution_count": 45,
      "outputs": [
        {
          "output_type": "stream",
          "name": "stdout",
          "text": [
            "Hello World!\n"
          ]
        }
      ]
    },
    {
      "cell_type": "code",
      "source": [
        "a=35\n",
        "print(f'the variable {a}')"
      ],
      "metadata": {
        "colab": {
          "base_uri": "https://localhost:8080/",
          "height": 0
        },
        "id": "NWlUfIlacBM2",
        "outputId": "52309dce-9d12-447e-986a-c3c84b06df1d"
      },
      "execution_count": 46,
      "outputs": [
        {
          "output_type": "stream",
          "name": "stdout",
          "text": [
            "the variable 35\n"
          ]
        }
      ]
    },
    {
      "cell_type": "markdown",
      "source": [
        "### Conditions"
      ],
      "metadata": {
        "id": "2sBbeTmc-6IT"
      }
    },
    {
      "cell_type": "code",
      "source": [
        "#conditions\n",
        "b=50\n",
        "if b>50:\n",
        "  print('yes')\n",
        "elif b==50:\n",
        "  print('ok')\n",
        "else:\n",
        "  print('no')"
      ],
      "metadata": {
        "colab": {
          "base_uri": "https://localhost:8080/",
          "height": 0
        },
        "id": "IV_rc1vLcKS0",
        "outputId": "b1ce45f0-dd3c-4d67-82a7-e9bbdd3759da"
      },
      "execution_count": 48,
      "outputs": [
        {
          "output_type": "stream",
          "name": "stdout",
          "text": [
            "ok\n"
          ]
        }
      ]
    },
    {
      "cell_type": "code",
      "source": [
        "b=50\n",
        "print('yes' if b>50 else 'ok' if b==50 else 'no')"
      ],
      "metadata": {
        "colab": {
          "base_uri": "https://localhost:8080/",
          "height": 0
        },
        "id": "TnTWVf9u_GIZ",
        "outputId": "2b9228e1-c726-480e-d24c-65f36f4af717"
      },
      "execution_count": 50,
      "outputs": [
        {
          "output_type": "stream",
          "name": "stdout",
          "text": [
            "ok\n"
          ]
        }
      ]
    },
    {
      "cell_type": "code",
      "source": [
        ""
      ],
      "metadata": {
        "id": "4rdC9bWPBnue"
      },
      "execution_count": null,
      "outputs": []
    },
    {
      "cell_type": "markdown",
      "source": [
        "### Loops\n",
        "1. For loop\n",
        "2. While loop"
      ],
      "metadata": {
        "id": "1Nten4dnBBYh"
      }
    },
    {
      "cell_type": "code",
      "source": [
        "#loops\n",
        "l=[1,2,3,4]\n",
        "for item in l:\n",
        "  print(item,end=',')"
      ],
      "metadata": {
        "colab": {
          "base_uri": "https://localhost:8080/",
          "height": 0
        },
        "id": "eefmhFPlcn5t",
        "outputId": "a700459f-5520-434f-de1a-452dd3505837"
      },
      "execution_count": 52,
      "outputs": [
        {
          "output_type": "stream",
          "name": "stdout",
          "text": [
            "1,2,3,4,"
          ]
        }
      ]
    },
    {
      "cell_type": "code",
      "source": [
        "i=0\n",
        "while i<3:\n",
        "  print(l[i])\n",
        "  i+=1 #i=i+1"
      ],
      "metadata": {
        "colab": {
          "base_uri": "https://localhost:8080/",
          "height": 0
        },
        "id": "GZ-zyk97dMr_",
        "outputId": "6bbdc22e-ab0f-4ecc-c2da-da6ac0d8ee2a"
      },
      "execution_count": 53,
      "outputs": [
        {
          "output_type": "stream",
          "name": "stdout",
          "text": [
            "1\n",
            "2\n",
            "3\n"
          ]
        }
      ]
    },
    {
      "cell_type": "markdown",
      "source": [
        "###Functions"
      ],
      "metadata": {
        "id": "W5osjViaBPU3"
      }
    },
    {
      "cell_type": "code",
      "source": [
        "#Functions\n",
        "def power(a,b):\n",
        "  b=b+1\n",
        "  return a**b\n",
        "\n",
        "print(power(2,3))"
      ],
      "metadata": {
        "colab": {
          "base_uri": "https://localhost:8080/",
          "height": 0
        },
        "id": "T-J55EC6djFj",
        "outputId": "3046f1b8-d0af-495b-afaf-c5a0eff0dc22"
      },
      "execution_count": 61,
      "outputs": [
        {
          "output_type": "stream",
          "name": "stdout",
          "text": [
            "16\n"
          ]
        }
      ]
    },
    {
      "cell_type": "code",
      "source": [
        "if __name__=='__main__':\n",
        "  print('Pink')"
      ],
      "metadata": {
        "colab": {
          "base_uri": "https://localhost:8080/",
          "height": 0
        },
        "id": "fBuLU2Thek2M",
        "outputId": "5741d37b-076a-4407-ea5e-89cbbb9f8f28"
      },
      "execution_count": 56,
      "outputs": [
        {
          "output_type": "stream",
          "name": "stdout",
          "text": [
            "Pink\n"
          ]
        }
      ]
    },
    {
      "cell_type": "code",
      "source": [
        ""
      ],
      "metadata": {
        "id": "-aeE40jIe7-M"
      },
      "execution_count": null,
      "outputs": []
    }
  ]
}